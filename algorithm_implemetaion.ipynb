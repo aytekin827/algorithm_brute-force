{
  "nbformat": 4,
  "nbformat_minor": 0,
  "metadata": {
    "colab": {
      "name": "algorithm_implemetaion.ipynb",
      "provenance": [],
      "authorship_tag": "ABX9TyNjXiMhkPZ/PYG7xszQTvr5",
      "include_colab_link": true
    },
    "kernelspec": {
      "name": "python3",
      "display_name": "Python 3"
    },
    "language_info": {
      "name": "python"
    }
  },
  "cells": [
    {
      "cell_type": "markdown",
      "metadata": {
        "id": "view-in-github",
        "colab_type": "text"
      },
      "source": [
        "<a href=\"https://colab.research.google.com/github/aytekin827/algorithm_brute-force/blob/main/algorithm_implemetaion.ipynb\" target=\"_parent\"><img src=\"https://colab.research.google.com/assets/colab-badge.svg\" alt=\"Open In Colab\"/></a>"
      ]
    },
    {
      "cell_type": "markdown",
      "source": [
        "# 아이디어를 코드로 구현하기\n",
        " - 피지컬로 승부하기  \n",
        "    - 완전탐색 : 모든 경우의 수를 주저 없이 다 계산하는 해결 방법\n",
        "    - 시물레이션 : 문제에서 제시한 알고리즘을 한 단계씩 차례대로 직접 수행해야 하는 문제유형\n",
        "\n",
        "구현 시 고려해야할 사항들\n",
        "- 메모리제약  \n",
        "1000만개 이상의 리스트는 용량제한이 뜨게 된다.\n",
        "- 시간제약  \n",
        "시간복잡도를 알고있고 그에 맞는 알고리즘을 사용하는 **감**이 필요하다"
      ],
      "metadata": {
        "id": "5Ghmg6nSizWc"
      }
    },
    {
      "cell_type": "markdown",
      "source": [
        "---"
      ],
      "metadata": {
        "id": "-WaCcqwskvmk"
      }
    },
    {
      "cell_type": "markdown",
      "source": [
        "## 문제풀이를 하면서 익숙해져보자"
      ],
      "metadata": {
        "id": "z4Y51a87kxAQ"
      }
    },
    {
      "cell_type": "code",
      "execution_count": null,
      "metadata": {
        "colab": {
          "base_uri": "https://localhost:8080/"
        },
        "id": "KPg3elvDis3Q",
        "outputId": "76d952ec-58b9-4d00-8c80-72e25bf8db16"
      },
      "outputs": [
        {
          "output_type": "stream",
          "name": "stdout",
          "text": [
            "5\n",
            "R R R U D D\n",
            "3 4 "
          ]
        }
      ],
      "source": [
        "# 상하좌우 문제\n",
        "import heapq\n",
        "\n",
        "map_size = int(input())\n",
        "step_list = list(map(str,input().split()))\n",
        "\n",
        "first_point = [1,1]\n",
        "\n",
        "def step(map_size, point, step_list):\n",
        "    while step_list:\n",
        "        direction = step_list.pop(0)\n",
        "        if direction == 'R':\n",
        "            if point[1] >= 5:\n",
        "                continue\n",
        "            point[1] += 1\n",
        "        elif direction == 'U':\n",
        "            if point[0] <= 1:\n",
        "                continue\n",
        "            point[0] -= 1\n",
        "        elif direction == 'L':\n",
        "            if point[1] <= 1:\n",
        "                continue\n",
        "            point[1] -= 1\n",
        "        elif direction == 'D':\n",
        "            if point[0] >= 5:\n",
        "                continue\n",
        "            point[0] += 1\n",
        "    return point\n",
        "\n",
        "for i in step(map_size, first_point, step_list):\n",
        "    print(i,end=' ')"
      ]
    },
    {
      "cell_type": "code",
      "source": [
        "# 시각 시간풀이\n",
        "\n",
        "time = int(input())\n",
        "\n",
        "count = 0\n",
        "for i in range(time + 1):\n",
        "    for j in range(60):\n",
        "        for k in range(60):\n",
        "            if '3' in str(i) + str(j) + str(k):\n",
        "                count += 1\n",
        "print(count)"
      ],
      "metadata": {
        "colab": {
          "base_uri": "https://localhost:8080/"
        },
        "id": "zXZaX3Lg0tQ1",
        "outputId": "92257689-994c-4db6-9120-e39e8b8d4e68"
      },
      "execution_count": null,
      "outputs": [
        {
          "output_type": "stream",
          "name": "stdout",
          "text": [
            "5\n",
            "11475\n"
          ]
        }
      ]
    },
    {
      "cell_type": "code",
      "source": [
        "# 왕실의 나이트\n",
        "\n",
        "loc = input()\n",
        "row = int(loc[1])\n",
        "column = int(ord(loc[0]))-int(ord('a'))+1\n",
        "\n",
        "steps = [(-2,-1),(-1,-2),(1,-2),(2,-1),(2,1),(1,2),(-1,2),(-2,1)]\n",
        "\n",
        "count = 0\n",
        "for step in steps:\n",
        "    next_row = row + step[0]\n",
        "    next_column = column + step[1]\n",
        "    if next_row >= 1 and next_row <= 8 and next_column >= 1 and next_column <= 8:\n",
        "        count += 1\n",
        "\n",
        "print(count)"
      ],
      "metadata": {
        "colab": {
          "base_uri": "https://localhost:8080/"
        },
        "id": "Uq-3qtc82LdV",
        "outputId": "121583d2-0ab4-4f51-b3fc-0339aa8d9a02"
      },
      "execution_count": null,
      "outputs": [
        {
          "output_type": "stream",
          "name": "stdout",
          "text": [
            "a7\n",
            "3\n"
          ]
        }
      ]
    },
    {
      "cell_type": "markdown",
      "source": [
        "방향을 돌면서 확인해야하는 문제에서는  \n",
        "direction을 리스트로 만들어서 하나하나 반복문을 돌면서 확인하는 방법이 꽤 유용함\n",
        "\n",
        "알아두면 좋을듯!\n",
        "\n",
        "여기에서는 dx, dy라는 방향리스트를 사용함"
      ],
      "metadata": {
        "id": "m6P7R1lUVfHn"
      }
    },
    {
      "cell_type": "code",
      "source": [
        "# 개임 개발\n",
        "\n",
        "n, m = map(int,input().split())\n",
        "\n",
        "d = [[0] * m for _ in range(n)]\n",
        "\n",
        "x,y,direction = map(int,input().split())\n",
        "\n",
        "d[x][y] = 1\n",
        "\n",
        "array = []\n",
        "for i in range(n):\n",
        "    array.append(list(map(int,input().split())))\n",
        "\n",
        "dx = [-1,0,1,0]\n",
        "dy = [0,1,0,-1]\n",
        "\n",
        "def turn_left():\n",
        "    global direction\n",
        "    direction -= 1\n",
        "    if direction == -1:\n",
        "        direction = 3\n",
        "\n",
        "count = 0\n",
        "turn_time = 0\n",
        "while True:\n",
        "    turn_left()\n",
        "    nx = x + dx[direction]\n",
        "    ny = y + dy[direction]\n",
        "\n",
        "    if d[nx][ny] == 0 and array[nx][ny] ==0:\n",
        "        d[nx][ny] = 1\n",
        "        x = nx\n",
        "        y = ny\n",
        "        count += 1\n",
        "        turn_time = 0\n",
        "        continue\n",
        "    else:\n",
        "        turn_time += 1\n",
        "    \n",
        "    if turn_time == 4:\n",
        "        nx = x - dx[direction]\n",
        "        ny = y - dy[direction]\n",
        "\n",
        "        if array[nx][ny] == 0:\n",
        "            x = nx\n",
        "            y = ny\n",
        "        else:\n",
        "            break\n",
        "        turn_time = 0\n",
        "\n",
        "print(count)"
      ],
      "metadata": {
        "colab": {
          "base_uri": "https://localhost:8080/"
        },
        "id": "5qVA9qJ-5oK6",
        "outputId": "cb2f0e6b-9240-4f30-dd44-ae118b242148"
      },
      "execution_count": null,
      "outputs": [
        {
          "output_type": "stream",
          "name": "stdout",
          "text": [
            "4 4\n",
            "1 1 0\n",
            "1 1 1 1 \n",
            "1 0 0 1\n",
            "1 1 0 1\n",
            "1 1 1 1 \n",
            "2\n"
          ]
        }
      ]
    }
  ]
}