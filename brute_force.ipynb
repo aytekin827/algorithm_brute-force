{
  "nbformat": 4,
  "nbformat_minor": 0,
  "metadata": {
    "colab": {
      "name": "brute force.ipynb",
      "provenance": [],
      "collapsed_sections": [],
      "authorship_tag": "ABX9TyOW8IjA7+vfy4JZclZhVyp3",
      "include_colab_link": true
    },
    "kernelspec": {
      "name": "python3",
      "display_name": "Python 3"
    },
    "language_info": {
      "name": "python"
    }
  },
  "cells": [
    {
      "cell_type": "markdown",
      "metadata": {
        "id": "view-in-github",
        "colab_type": "text"
      },
      "source": [
        "<a href=\"https://colab.research.google.com/github/aytekin827/brute-force/blob/main/brute_force.ipynb\" target=\"_parent\"><img src=\"https://colab.research.google.com/assets/colab-badge.svg\" alt=\"Open In Colab\"/></a>"
      ]
    },
    {
      "cell_type": "markdown",
      "metadata": {
        "id": "mBoJANnZO-48"
      },
      "source": [
        "### brute force \n",
        "\n",
        "암호해독법으로 무차별로 계속해서 대입하다보면 암호를 풀수 있다고 하는 아이디어이다\n",
        "\n",
        "brute(짐승) + force(힘,공격)\n"
      ]
    },
    {
      "cell_type": "code",
      "metadata": {
        "colab": {
          "base_uri": "https://localhost:8080/"
        },
        "id": "qgRfXMe2OizF",
        "outputId": "6daeaa8a-9ae5-43f6-cde0-6a7056aa5e22"
      },
      "source": [
        "# 2798 블랙잭\n",
        "n,m = map(int,input().split())\n",
        "dack = list(map(int,input().split()))\n",
        "target = m\n",
        "for i in range(len(dack)-2):\n",
        "    for j in range(i+1,len(dack)-1):\n",
        "        for k in range(j+1,len(dack)):\n",
        "            sum = dack[i]+dack[j]+dack[k]\n",
        "            if sum > m:\n",
        "                continue\n",
        "            elif target >= m-sum:\n",
        "                target = m-sum\n",
        "                ans = sum\n",
        "print(ans)"
      ],
      "execution_count": null,
      "outputs": [
        {
          "output_type": "stream",
          "name": "stdout",
          "text": [
            "5 21 \n",
            "5 6 7 8 9\n",
            "0 1 2 18\n",
            "0 1 3 19\n",
            "0 1 4 20\n",
            "0 2 3 20\n",
            "0 2 4 21\n",
            "1 2 3 21\n",
            "21\n"
          ]
        }
      ]
    },
    {
      "cell_type": "code",
      "metadata": {
        "colab": {
          "base_uri": "https://localhost:8080/"
        },
        "id": "4V0E8aaUUeEo",
        "outputId": "f6dceed4-ff80-48ca-fdeb-58a05e626a85"
      },
      "source": [
        "# 2231 분해합\n",
        "\n",
        "n = int(input())\n",
        "cons_num = {}\n",
        "for i in range(1,n+1):\n",
        "    num = list(map(int,list(str(i))))\n",
        "    num.append(i)\n",
        "    cons_num[sum(num)] = []\n",
        "\n",
        "\n",
        "for i in range(1,n+1):\n",
        "    num = list(map(int,list(str(i))))\n",
        "    num.append(i)\n",
        "    cons_num[sum(num)].append(i)\n",
        "\n",
        "\n",
        "if n not in cons_num.keys():\n",
        "    print(0)\n",
        "else:\n",
        "    print(cons_num[n][0])"
      ],
      "execution_count": null,
      "outputs": [
        {
          "output_type": "stream",
          "name": "stdout",
          "text": [
            "97\n",
            "0\n"
          ]
        }
      ]
    },
    {
      "cell_type": "code",
      "metadata": {
        "colab": {
          "base_uri": "https://localhost:8080/"
        },
        "id": "dCC0OS41yKmw",
        "outputId": "f9febacd-6854-40ac-bab3-1d8031b34655"
      },
      "source": [
        "# 7568 덩치\n",
        "\n",
        "n = int(input())\n",
        "people = []\n",
        "for i in range(n):\n",
        "    people.append(tuple(map(int,input().split())))\n",
        "\n",
        "# 각 사람별 딕셔너리를 만들어줌.\n",
        "dictpeople = {} \n",
        "for v in people:\n",
        "    dictpeople[v] = 1\n",
        "\n",
        "people.sort(reverse=True) # 몸무게로 내림차순 정렬\n",
        "\n",
        "rank = 1\n",
        "\n",
        "for i in range(len(people)):\n",
        "    for j in range(i+1,len(people)):\n",
        "        if people[i][1] < people[j][1]:\n",
        "            dictpeople[people[i]] = rank\n",
        "            rank -= 1\n",
        "            break\n",
        "        \n",
        "        dictpeople[people[i]] = rank\n",
        "\n",
        "    rank += 1\n",
        "    \n",
        "if people[n-1][1] < people[n-2][1]:\n",
        "    dictpeople[people[n-1]] = n\n",
        "else:\n",
        "    dictpeople[people[n-1]] = rank\n",
        "\n",
        "for i in dictpeople.values():\n",
        "    print(i,end=' ')"
      ],
      "execution_count": null,
      "outputs": [
        {
          "output_type": "stream",
          "name": "stdout",
          "text": [
            "people1: 186 people2: 175\n",
            "(88, 186) rank: 1\n",
            "people1: 186 people3: 183\n",
            "(88, 186) rank: 1\n",
            "people1: 186 people4: 185\n",
            "(88, 186) rank: 1\n",
            "people1: 186 people5: 155\n",
            "(88, 186) rank: 1\n",
            "proceed\n",
            "\n",
            "people2: 175 people3: 183\n",
            "(60, 175) rank: 2\n",
            "break\n",
            "proceed\n",
            "\n",
            "people3: 183 people4: 185\n",
            "(58, 183) rank: 2\n",
            "break\n",
            "proceed\n",
            "\n",
            "people4: 185 people5: 155\n",
            "(55, 185) rank: 2\n",
            "proceed\n",
            "\n",
            "proceed\n",
            "\n",
            "{(55, 185): 2, (58, 183): 2, (88, 186): 1, (60, 175): 2, (46, 155): 5}\n",
            "2 2 1 2 5 "
          ]
        }
      ]
    },
    {
      "cell_type": "code",
      "metadata": {
        "id": "MnRnogn2X4cx",
        "colab": {
          "base_uri": "https://localhost:8080/"
        },
        "outputId": "6b5e68a3-c85b-420d-8bd0-c6591d376b22"
      },
      "source": [
        "# 7568 덩치\n",
        "\n",
        "n = int(input())\n",
        "people = []\n",
        "for _ in range(n):\n",
        "    people.append(tuple(map(int,input().split())))\n",
        "\n",
        "for i in people:\n",
        "    rank = 1\n",
        "    for j in people:\n",
        "        if i[0] < j[0] and i[1] < j[1]:\n",
        "            rank += 1\n",
        "    print(rank, end=' ')\n",
        "\n",
        "\n",
        "# ㅂㄷㅂㄷㅂㄷㅂㄷㅂㄷㅂㄷ...\n",
        "# 너무 멀리 가버렸다."
      ],
      "execution_count": null,
      "outputs": [
        {
          "output_type": "stream",
          "name": "stdout",
          "text": [
            "2 2 1 2 5 "
          ]
        }
      ]
    },
    {
      "cell_type": "code",
      "metadata": {
        "colab": {
          "base_uri": "https://localhost:8080/"
        },
        "id": "1XBk-3TVbSP1",
        "outputId": "0c80a492-4fdb-4d6d-a24a-a418df4e5258"
      },
      "source": [
        "# 체스판 다시 칠하기\n",
        "n,m = list(map(int,input().split()))\n",
        "\n",
        "chess = []\n",
        "for _ in range(n):\n",
        "    chess.append(list(input()))\n",
        "\n",
        "# 이동할 네 방향(상,하,좌,우)\n",
        "dx = [-1,1,0,0]\n",
        "dy = [0,0,-1,1]\n",
        "\n"
      ],
      "execution_count": null,
      "outputs": [
        {
          "name": "stdout",
          "output_type": "stream",
          "text": [
            "3 5\n",
            "bwbwb\n",
            "wbwbw\n",
            "bwbwb\n"
          ]
        },
        {
          "output_type": "execute_result",
          "data": {
            "text/plain": [
              "[['b', 'w', 'b', 'w', 'b'],\n",
              " ['w', 'b', 'w', 'b', 'w'],\n",
              " ['b', 'w', 'b', 'w', 'b']]"
            ]
          },
          "metadata": {},
          "execution_count": 168
        }
      ]
    },
    {
      "cell_type": "code",
      "metadata": {
        "colab": {
          "base_uri": "https://localhost:8080/"
        },
        "id": "A1bZOna5UF2a",
        "outputId": "36e37657-2412-4135-f3f5-f3947f5b2b0a"
      },
      "source": [
        "list(input())"
      ],
      "execution_count": null,
      "outputs": [
        {
          "name": "stdout",
          "output_type": "stream",
          "text": [
            "bbbbbwwwww\n"
          ]
        },
        {
          "output_type": "execute_result",
          "data": {
            "text/plain": [
              "['b', 'b', 'b', 'b', 'b', 'w', 'w', 'w', 'w', 'w']"
            ]
          },
          "metadata": {},
          "execution_count": 166
        }
      ]
    }
  ]
}